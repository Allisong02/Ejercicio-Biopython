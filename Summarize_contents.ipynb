{
 "metadata": {
  "language_info": {
   "codemirror_mode": {
    "name": "ipython",
    "version": 3
   },
   "file_extension": ".py",
   "mimetype": "text/x-python",
   "name": "python",
   "nbconvert_exporter": "python",
   "pygments_lexer": "ipython3",
   "version": "3.8.3-final"
  },
  "orig_nbformat": 2,
  "kernelspec": {
   "name": "Python 3.8.3 64-bit ('base': conda)",
   "display_name": "Python 3.8.3 64-bit ('base': conda)",
   "metadata": {
    "interpreter": {
     "hash": "0e21adc141355ce7a02ebfd545c2a3a24300da0bf4812c4d056ac394ccab7de0"
    }
   }
  }
 },
 "nbformat": 4,
 "nbformat_minor": 2,
 "cells": [
  {
   "cell_type": "code",
   "execution_count": 3,
   "metadata": {},
   "outputs": [
    {
     "output_type": "stream",
     "name": "stdout",
     "text": [
      "Path:  /mnt/c/Users/world/OneDrive/Escritorio/Allison/Ejercicio-Biopython2\nnum_records = 1 records\n\n\nName:  NC_006549\nID:  NC_006549.1\nLocation: \nStart: 0, Stop: 140131\nStart: 1056, Stop: 1971\nStart: 1056, Stop: 1971\nStart: 1501, Stop: 1903\nStart: 1501, Stop: 1903\nStart: 2017, Stop: 3163\nStart: 2017, Stop: 3163\nStart: 3234, Stop: 4332\nStart: 3234, Stop: 4332\nStart: 4399, Stop: 5542\nStart: 4399, Stop: 5542\nStart: 5569, Stop: 6349\nStart: 5569, Stop: 6349\nStart: 6415, Stop: 7339\nStart: 6415, Stop: 7339\nStart: 7193, Stop: 7886\nStart: 7193, Stop: 7886\nStart: 7979, Stop: 8444\nStart: 7979, Stop: 8444\nStart: 8516, Stop: 8888\nStart: 8516, Stop: 8888\nStart: 8943, Stop: 9132\nStart: 8943, Stop: 9132\nStart: 9218, Stop: 12293\nStart: 9218, Stop: 12293\nStart: 11172, Stop: 11595\nStart: 11172, Stop: 11595\nStart: 12347, Stop: 12773\nStart: 12347, Stop: 12773\nStart: 12820, Stop: 13000\nStart: 12820, Stop: 13000\nStart: 13047, Stop: 14289\nStart: 13047, Stop: 14289\nStart: 13171, Stop: 13609\nStart: 13171, Stop: 13609\nStart: 14316, Stop: 15174\nStart: 14316, Stop: 15174\nStart: 15195, Stop: 16224\nStart: 15195, Stop: 16224\nStart: 16277, Stop: 17246\nStart: 16277, Stop: 17246\nStart: 17305, Stop: 17725\nStart: 17305, Stop: 17725\nStart: 17776, Stop: 18277\nStart: 17776, Stop: 18277\nStart: 17792, Stop: 18290\nStart: 17792, Stop: 18290\nStart: 18318, Stop: 18774\nStart: 18318, Stop: 18774\nStart: 18955, Stop: 20488\nStart: 18955, Stop: 20488\nStart: 20566, Stop: 22267\nStart: 20566, Stop: 22267\nStart: 20670, Stop: 21162\nStart: 20670, Stop: 21162\nStart: 22349, Stop: 23363\nStart: 22349, Stop: 23363\nStart: 23446, Stop: 24445\nStart: 23446, Stop: 24445\nStart: 24609, Stop: 25635\nStart: 24609, Stop: 25635\nStart: 26143, Stop: 27160\nStart: 26143, Stop: 27160\nStart: 27390, Stop: 27516\nStart: 27390, Stop: 27516\nStart: 28725, Stop: 29760\nStart: 28725, Stop: 29760\nStart: 29822, Stop: 30161\nStart: 29822, Stop: 30161\nStart: 30260, Stop: 31388\nStart: 30260, Stop: 31388\nStart: 31525, Stop: 32515\nStart: 31525, Stop: 32515\nStart: 32667, Stop: 33696\nStart: 32667, Stop: 33696\nStart: 33723, Stop: 34236\nStart: 33723, Stop: 34236\nStart: 34261, Stop: 37417\nStart: 34261, Stop: 37417\nStart: 36122, Stop: 36698\nStart: 36122, Stop: 36698\nStart: 37546, Stop: 37978\nStart: 37546, Stop: 37978\nStart: 38057, Stop: 38285\nStart: 38057, Stop: 38285\nStart: 38284, Stop: 40288\nStart: 38284, Stop: 40288\nStart: 38607, Stop: 39213\nStart: 38607, Stop: 39213\nStart: 40361, Stop: 41090\nStart: 40361, Stop: 41090\nStart: 41119, Stop: 41866\nStart: 41119, Stop: 41866\nStart: 41908, Stop: 43063\nStart: 41908, Stop: 43063\nStart: 43213, Stop: 43489\nStart: 43213, Stop: 43489\nStart: 43534, Stop: 44002\nStart: 43534, Stop: 44002\nStart: 44032, Stop: 44695\nStart: 44032, Stop: 44695\nStart: 44867, Stop: 45563\nStart: 44867, Stop: 45563\nStart: 45766, Stop: 48673\nStart: 45766, Stop: 48673\nStart: 46253, Stop: 46832\nStart: 46253, Stop: 46832\nStart: 48776, Stop: 49424\nStart: 48776, Stop: 49424\nStart: 49446, Stop: 50169\nStart: 49446, Stop: 50169\nStart: 50197, Stop: 50938\nStart: 50197, Stop: 50938\nStart: 51003, Stop: 54510\nStart: 51003, Stop: 54510\nStart: 52462, Stop: 52876\nStart: 52462, Stop: 52876\nStart: 54559, Stop: 55000\nStart: 54559, Stop: 55000\nStart: 54966, Stop: 57879\nStart: 54966, Stop: 57879\nStart: 57913, Stop: 58528\nStart: 57913, Stop: 58528\nStart: 58592, Stop: 59363\nStart: 58592, Stop: 59363\nStart: 58648, Stop: 59278\nStart: 58648, Stop: 59278\nStart: 59414, Stop: 61133\nStart: 59414, Stop: 61133\nStart: 61267, Stop: 61510\nStart: 61267, Stop: 61510\nStart: 61602, Stop: 61845\nStart: 61602, Stop: 61845\nStart: 61906, Stop: 62482\nStart: 61906, Stop: 62482\nStart: 62515, Stop: 63334\nStart: 62515, Stop: 63334\nStart: 63320, Stop: 64967\nStart: 63320, Stop: 64967\nStart: 64993, Stop: 65452\nStart: 64993, Stop: 65452\nStart: 65482, Stop: 66307\nStart: 65482, Stop: 66307\nStart: 66403, Stop: 67795\nStart: 66403, Stop: 67795\nStart: 67873, Stop: 71185\nStart: 67873, Stop: 71185\nStart: 68471, Stop: 68738\nStart: 68471, Stop: 68738\nStart: 71238, Stop: 71775\nStart: 71238, Stop: 71775\nStart: 71857, Stop: 72715\nStart: 71857, Stop: 72715\nStart: 72838, Stop: 73747\nStart: 72838, Stop: 73747\nStart: 73854, Stop: 76227\nStart: 73854, Stop: 76227\nStart: 74230, Stop: 74680\nStart: 74230, Stop: 74680\nStart: 75871, Stop: 76324\nStart: 75871, Stop: 76324\nStart: 76245, Stop: 76809\nStart: 76245, Stop: 76809\nStart: 76923, Stop: 77592\nStart: 76923, Stop: 77592\nStart: 77671, Stop: 79009\nStart: 77671, Stop: 79009\nStart: 79065, Stop: 80193\nStart: 79065, Stop: 80193\nStart: 80250, Stop: 80529\nStart: 80250, Stop: 80529\nStart: 80590, Stop: 81055\nStart: 80590, Stop: 81055\nStart: 81384, Stop: 82032\nStart: 81384, Stop: 82032\nStart: 82666, Stop: 84187\nStart: 82666, Stop: 84187\nStart: 84247, Stop: 85420\nStart: 84247, Stop: 85420\nStart: 85505, Stop: 86627\nStart: 85505, Stop: 86627\nStart: 86749, Stop: 87886\nStart: 86749, Stop: 87886\nStart: 88085, Stop: 89216\nStart: 88085, Stop: 89216\nStart: 89279, Stop: 90497\nStart: 89279, Stop: 90497\nStart: 90621, Stop: 91083\nStart: 90621, Stop: 91083\nStart: 90634, Stop: 91111\nStart: 90634, Stop: 91111\nStart: 91147, Stop: 91618\nStart: 91147, Stop: 91618\nStart: 91625, Stop: 92774\nStart: 91625, Stop: 92774\nStart: 92427, Stop: 93231\nStart: 92427, Stop: 93231\nStart: 93243, Stop: 93492\nStart: 93243, Stop: 93492\nStart: 93739, Stop: 94153\nStart: 93739, Stop: 94153\nStart: 93752, Stop: 94694\nStart: 93752, Stop: 94694\nStart: 94773, Stop: 95007\nStart: 94773, Stop: 95007\nStart: 95091, Stop: 95385\nStart: 95091, Stop: 95385\nStart: 95445, Stop: 99252\nStart: 95445, Stop: 99252\nStart: 95497, Stop: 95731\nStart: 95497, Stop: 95731\nStart: 97297, Stop: 98146\nStart: 97297, Stop: 98146\nStart: 99307, Stop: 100453\nStart: 99307, Stop: 100453\nStart: 99328, Stop: 100309\nStart: 99328, Stop: 100309\nStart: 99399, Stop: 100305\nStart: 99399, Stop: 100305\nStart: 100503, Stop: 101067\nStart: 100503, Stop: 101067\nStart: 100765, Stop: 101533\nStart: 100765, Stop: 101533\nStart: 101587, Stop: 102655\nStart: 101587, Stop: 102655\nStart: 101943, Stop: 102633\nStart: 101943, Stop: 102633\nStart: 102711, Stop: 103050\nStart: 102711, Stop: 103050\nStart: 103121, Stop: 103580\nStart: 103121, Stop: 103580\nStart: 103699, Stop: 104476\nStart: 103699, Stop: 104476\nStart: 104574, Stop: 104733\nStart: 104574, Stop: 104733\nStart: 104794, Stop: 105754\nStart: 104794, Stop: 105754\nStart: 105798, Stop: 106050\nStart: 105798, Stop: 106050\nStart: 106102, Stop: 106525\nStart: 106102, Stop: 106525\nStart: 106614, Stop: 106869\nStart: 106614, Stop: 106869\nStart: 106966, Stop: 107599\nStart: 106966, Stop: 107599\nStart: 107651, Stop: 108740\nStart: 107651, Stop: 108740\nStart: 108862, Stop: 109399\nStart: 108862, Stop: 109399\nStart: 109473, Stop: 110028\nStart: 109473, Stop: 110028\nStart: 110100, Stop: 110658\nStart: 110100, Stop: 110658\nStart: 110730, Stop: 111252\nStart: 110730, Stop: 111252\nStart: 112040, Stop: 115070\nStart: 112040, Stop: 115070\nStart: 115307, Stop: 115490\nStart: 115307, Stop: 115490\nStart: 115672, Stop: 116083\nStart: 115672, Stop: 116083\nStart: 115748, Stop: 116303\nStart: 115748, Stop: 116303\nStart: 116320, Stop: 117148\nStart: 116320, Stop: 117148\nStart: 117167, Stop: 117440\nStart: 117167, Stop: 117440\nStart: 117526, Stop: 118498\nStart: 117526, Stop: 118498\nStart: 118546, Stop: 118885\nStart: 118546, Stop: 118885\nStart: 118945, Stop: 119260\nStart: 118945, Stop: 119260\nStart: 119281, Stop: 120667\nStart: 119281, Stop: 120667\nStart: 120712, Stop: 120907\nStart: 120712, Stop: 120907\nStart: 121012, Stop: 121324\nStart: 121012, Stop: 121324\nStart: 121396, Stop: 122311\nStart: 121396, Stop: 122311\nStart: 122566, Stop: 124558\nStart: 122566, Stop: 124558\nStart: 122571, Stop: 124134\nStart: 122571, Stop: 124134\nStart: 124642, Stop: 124882\nStart: 124642, Stop: 124882\nStart: 124962, Stop: 125421\nStart: 124962, Stop: 125421\nStart: 125479, Stop: 125977\nStart: 125479, Stop: 125977\nStart: 126077, Stop: 127052\nStart: 126077, Stop: 127052\nStart: 127186, Stop: 128221\nStart: 127186, Stop: 128221\nStart: 128323, Stop: 128803\nStart: 128323, Stop: 128803\nStart: 128842, Stop: 129220\nStart: 128842, Stop: 129220\nStart: 129300, Stop: 130827\nStart: 129300, Stop: 130827\nStart: 130847, Stop: 131435\nStart: 130847, Stop: 131435\nStart: 131533, Stop: 132772\nStart: 131533, Stop: 132772\nStart: 132088, Stop: 132661\nStart: 132088, Stop: 132661\nStart: 132787, Stop: 133081\nStart: 132787, Stop: 133081\nStart: 133171, Stop: 134899\nStart: 133171, Stop: 134899\nStart: 135047, Stop: 135860\nStart: 135047, Stop: 135860\nStart: 135947, Stop: 136472\nStart: 135947, Stop: 136472\nStart: 136527, Stop: 136944\nStart: 136527, Stop: 136944\nStart: 137019, Stop: 137511\nStart: 137019, Stop: 137511\nStart: 137507, Stop: 137996\nStart: 137507, Stop: 137996\nStart: 138344, Stop: 138533\nStart: 138344, Stop: 138533\nStart: 138673, Stop: 139822\nStart: 138673, Stop: 139822\n\n\n"
     ]
    }
   ],
   "source": [
    "from Bio import SeqIO\n",
    "from Bio.Seq import Seq\n",
    "from Bio.SeqFeature import SeqFeature, FeatureLocation\n",
    "from Bio.SeqRecord import SeqRecord\n",
    "import os\n",
    "\n",
    "filename = \"/mnt/c/Users/world/OneDrive/Escritorio/Allison/Ejercicio-Biopython2/sequence.gb\"\n",
    "def summarize_contents(filename):\n",
    "    all_records=[]\n",
    "    records = list(SeqIO.parse(filename, \"genbank\"))\n",
    "    print(\"Path: \", os.path.dirname(filename))\n",
    "    print(\"num_records = %i records\" % len(records))\n",
    "    print(\"\\n\")\n",
    "    counter = 0\n",
    "    for seq_record in SeqIO.parse(filename, \"genbank\"):\n",
    "        all_records.append(seq_record.name)\n",
    "        print(\"Name: \", seq_record.name)\n",
    "        print(\"ID: \", seq_record.id)\n",
    "        print(\"Location: \")\n",
    "        for seq_feature in seq_record.features:\n",
    "            print('Start: %d, Stop: %d'%(int(seq_feature.location.start),int(seq_feature.location.end)))\n",
    "        print(\"\\n\")\n",
    "summarize_contents(filename)"
   ]
  }
 ]
}