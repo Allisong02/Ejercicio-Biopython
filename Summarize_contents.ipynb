{
 "metadata": {
  "language_info": {
   "codemirror_mode": {
    "name": "ipython",
    "version": 3
   },
   "file_extension": ".py",
   "mimetype": "text/x-python",
   "name": "python",
   "nbconvert_exporter": "python",
   "pygments_lexer": "ipython3",
   "version": 3
  },
  "orig_nbformat": 2
 },
 "nbformat": 4,
 "nbformat_minor": 2,
 "cells": [
  {
   "cell_type": "code",
   "execution_count": null,
   "metadata": {},
   "outputs": [],
   "source": [
    "import Bio \n",
    "from Bio import SeqIO, SeqFeature \n",
    "from Bio.SeqFeature import FeatureLocation\n",
    "from Bio.SeqRecord import SeqRecord\n",
    "archivo = \"/mnt/c/Users/world/OneDrive/Escritorio/Allison/Ejercicio-biopython/sequence.gb\"\n",
    "def summarize_contents(archivo): \n",
    "    resumen = SeqIO.read(archivo, \"genbank\")\n",
    "    print(resumen)\n",
    "summarize_contents(archivo)"
   ]
  }
 ]
}